{
 "cells": [
  {
   "cell_type": "code",
   "execution_count": 66,
   "metadata": {},
   "outputs": [],
   "source": [
    "# Import the required libraries and dependencies\n",
    "import FundamentalAnalysis as fa\n",
    "import os\n",
    "import pandas as pd\n",
    "import hvplot.pandas\n",
    "from dotenv import load_dotenv\n",
    "from pathlib import Path"
   ]
  },
  {
   "cell_type": "code",
   "execution_count": 59,
   "metadata": {},
   "outputs": [],
   "source": [
    "# Load the .env file into the notebook\n",
    "load_dotenv()\n",
    "\n",
    "# Read in your FMPCLOUD.IO_API_KEY\n",
    "api_key = os.getenv(\"FMPCLOUD_API_KEY\")\n",
    "\n",
    "# Confirm the availability of your FMPCLOUD.IO API access key by checking its type\n",
    "if not api_key:\n",
    "    print(\"Error with the FMPCLOUD.IO API key. Check the .env file.\")"
   ]
  },
  {
   "cell_type": "code",
   "execution_count": 67,
   "metadata": {},
   "outputs": [],
   "source": [
    "# Read in the CSV file called \"tickers.csv\" using the Path module. \n",
    "# The CSV file is located in the Resources folder.\n",
    "tickers = pd.read_csv(\n",
    "    Path(\"./Resources/tickers.csv\"),\n",
    ")"
   ]
  },
  {
   "cell_type": "code",
   "execution_count": 68,
   "metadata": {},
   "outputs": [
    {
     "data": {
      "text/html": [
       "<div>\n",
       "<style scoped>\n",
       "    .dataframe tbody tr th:only-of-type {\n",
       "        vertical-align: middle;\n",
       "    }\n",
       "\n",
       "    .dataframe tbody tr th {\n",
       "        vertical-align: top;\n",
       "    }\n",
       "\n",
       "    .dataframe thead th {\n",
       "        text-align: right;\n",
       "    }\n",
       "</style>\n",
       "<table border=\"1\" class=\"dataframe\">\n",
       "  <thead>\n",
       "    <tr style=\"text-align: right;\">\n",
       "      <th></th>\n",
       "      <th>Ticker</th>\n",
       "      <th>Company</th>\n",
       "    </tr>\n",
       "  </thead>\n",
       "  <tbody>\n",
       "    <tr>\n",
       "      <th>0</th>\n",
       "      <td>AAPL</td>\n",
       "      <td>Apple Inc</td>\n",
       "    </tr>\n",
       "    <tr>\n",
       "      <th>1</th>\n",
       "      <td>GOOG</td>\n",
       "      <td>Alphabet Inc</td>\n",
       "    </tr>\n",
       "    <tr>\n",
       "      <th>2</th>\n",
       "      <td>FB</td>\n",
       "      <td>Facebook, Inc</td>\n",
       "    </tr>\n",
       "    <tr>\n",
       "      <th>3</th>\n",
       "      <td>SNOW</td>\n",
       "      <td>Snowflake Inc</td>\n",
       "    </tr>\n",
       "    <tr>\n",
       "      <th>4</th>\n",
       "      <td>NVDA</td>\n",
       "      <td>NVIDIA Corporation</td>\n",
       "    </tr>\n",
       "  </tbody>\n",
       "</table>\n",
       "</div>"
      ],
      "text/plain": [
       "  Ticker             Company\n",
       "0   AAPL           Apple Inc\n",
       "1   GOOG        Alphabet Inc\n",
       "2     FB       Facebook, Inc\n",
       "3   SNOW       Snowflake Inc\n",
       "4   NVDA  NVIDIA Corporation"
      ]
     },
     "metadata": {},
     "output_type": "display_data"
    }
   ],
   "source": [
    "# Use the head (and/or tail) function to confirm that the data was imported properly.\n",
    "display(tickers.head())"
   ]
  },
  {
   "cell_type": "code",
   "execution_count": 69,
   "metadata": {},
   "outputs": [
    {
     "data": {
      "text/plain": [
       "['AAPL', 'GOOG', 'FB', 'SNOW', 'NVDA']"
      ]
     },
     "execution_count": 69,
     "metadata": {},
     "output_type": "execute_result"
    }
   ],
   "source": [
    "# Converting column data to list\n",
    "tickers = tickers['Ticker'].tolist()\n",
    "tickers"
   ]
  },
  {
   "cell_type": "code",
   "execution_count": 70,
   "metadata": {},
   "outputs": [
    {
     "data": {
      "text/html": [
       "<div>\n",
       "<style scoped>\n",
       "    .dataframe tbody tr th:only-of-type {\n",
       "        vertical-align: middle;\n",
       "    }\n",
       "\n",
       "    .dataframe tbody tr th {\n",
       "        vertical-align: top;\n",
       "    }\n",
       "\n",
       "    .dataframe thead th {\n",
       "        text-align: right;\n",
       "    }\n",
       "</style>\n",
       "<table border=\"1\" class=\"dataframe\">\n",
       "  <thead>\n",
       "    <tr style=\"text-align: right;\">\n",
       "      <th></th>\n",
       "      <th>Gross Margin</th>\n",
       "      <th>Operating Margin</th>\n",
       "      <th>Net Margin</th>\n",
       "      <th>Gross Debt/Equity</th>\n",
       "      <th>Asset Turnover</th>\n",
       "      <th>ROE</th>\n",
       "    </tr>\n",
       "    <tr>\n",
       "      <th>Ticker</th>\n",
       "      <th></th>\n",
       "      <th></th>\n",
       "      <th></th>\n",
       "      <th></th>\n",
       "      <th></th>\n",
       "      <th></th>\n",
       "    </tr>\n",
       "  </thead>\n",
       "  <tbody>\n",
       "    <tr>\n",
       "      <th>AAPL</th>\n",
       "      <td>0.425</td>\n",
       "      <td>0.307</td>\n",
       "      <td>0.264</td>\n",
       "      <td>1.570</td>\n",
       "      <td>1.063</td>\n",
       "      <td>1.366</td>\n",
       "    </tr>\n",
       "    <tr>\n",
       "      <th>GOOG</th>\n",
       "      <td>0.564</td>\n",
       "      <td>0.297</td>\n",
       "      <td>0.324</td>\n",
       "      <td>0.060</td>\n",
       "      <td>0.676</td>\n",
       "      <td>0.312</td>\n",
       "    </tr>\n",
       "    <tr>\n",
       "      <th>FB</th>\n",
       "      <td>0.804</td>\n",
       "      <td>0.435</td>\n",
       "      <td>0.363</td>\n",
       "      <td>0.079</td>\n",
       "      <td>0.640</td>\n",
       "      <td>0.284</td>\n",
       "    </tr>\n",
       "    <tr>\n",
       "      <th>SNOW</th>\n",
       "      <td>0.565</td>\n",
       "      <td>-1.052</td>\n",
       "      <td>-1.044</td>\n",
       "      <td>0.000</td>\n",
       "      <td>0.129</td>\n",
       "      <td>-0.161</td>\n",
       "    </tr>\n",
       "    <tr>\n",
       "      <th>NVDA</th>\n",
       "      <td>0.631</td>\n",
       "      <td>0.301</td>\n",
       "      <td>0.291</td>\n",
       "      <td>0.353</td>\n",
       "      <td>0.695</td>\n",
       "      <td>0.345</td>\n",
       "    </tr>\n",
       "  </tbody>\n",
       "</table>\n",
       "</div>"
      ],
      "text/plain": [
       "        Gross Margin  Operating Margin  Net Margin  Gross Debt/Equity  \\\n",
       "Ticker                                                                  \n",
       "AAPL           0.425             0.307       0.264              1.570   \n",
       "GOOG           0.564             0.297       0.324              0.060   \n",
       "FB             0.804             0.435       0.363              0.079   \n",
       "SNOW           0.565            -1.052      -1.044              0.000   \n",
       "NVDA           0.631             0.301       0.291              0.353   \n",
       "\n",
       "        Asset Turnover    ROE  \n",
       "Ticker                         \n",
       "AAPL             1.063  1.366  \n",
       "GOOG             0.676  0.312  \n",
       "FB               0.640  0.284  \n",
       "SNOW             0.129 -0.161  \n",
       "NVDA             0.695  0.345  "
      ]
     },
     "execution_count": 70,
     "metadata": {},
     "output_type": "execute_result"
    }
   ],
   "source": [
    "# Get Return on Equity for all the companies in the dataset\n",
    "roe_df = pd.DataFrame(columns=['Ticker',\n",
    "                               'Gross Margin',\n",
    "                               'Operating Margin',\n",
    "                               'Net Margin',\n",
    "                               'Gross Debt/Equity',\n",
    "                               'Asset Turnover', \n",
    "                               'ROE'])\n",
    "\n",
    "for ticker in tickers:\n",
    "    balance_sheet_quarterly = fa.balance_sheet_statement(ticker, api_key, period=\"quarter\")\n",
    "    income_statement_quarterly= fa.income_statement(ticker, api_key, period=\"quarter\")\n",
    "    cash_flow_statement_quarterly = fa.cash_flow_statement(ticker, api_key, period=\"quarter\")\n",
    "    key_metrics_quarterly = fa.key_metrics(ticker, api_key, period=\"quarter\")\n",
    "    financial_ratios_quarterly = fa.financial_ratios(ticker, api_key, period=\"quarter\")\n",
    "    growth_quarterly = fa.financial_statement_growth(ticker, api_key, period=\"quarter\")\n",
    "    \n",
    "    gross_margin=round(financial_ratios_quarterly.loc['grossProfitMargin',financial_ratios_quarterly.columns[0]],3)\n",
    "    # ebitda_quarterly=round(income_statement_quarterly.loc['ebitda',income_statement_quarterly.columns[0]],3)\n",
    "    # ebitda_margin = round(ebitda_quarterly/revenue_quarterly,3)\n",
    "    operating_margin=round(financial_ratios_quarterly.loc['operatingProfitMargin',financial_ratios_quarterly.columns[0]],3)\n",
    "    net_margin=round(financial_ratios_quarterly.loc['netProfitMargin',financial_ratios_quarterly.columns[0]],3)\n",
    "    gross_debt_equity = round(key_metrics_quarterly.loc['debtToEquity',key_metrics_quarterly.columns[0]],3)\n",
    "    revenue_quarterly=round(income_statement_quarterly.loc['revenue',income_statement_quarterly.columns[0]],3)\n",
    "    assets=round(balance_sheet_quarterly.loc['totalAssets',key_metrics_quarterly.columns[0]],3)\n",
    "    asset_turnover=round(revenue_quarterly*4/assets,3)\n",
    "    equity=round(balance_sheet_quarterly.loc['totalStockholdersEquity',balance_sheet_quarterly.columns[0]],3)\n",
    "    net_profit_quarterly=round(income_statement_quarterly.loc['netIncome',income_statement_quarterly.columns[0]],3)\n",
    "    roe=round(net_profit_quarterly*4/equity,3)\n",
    "    roe_module = [ticker,gross_margin,operating_margin,net_margin,gross_debt_equity,asset_turnover,roe]\n",
    "    roe_df.loc[len(roe_df.index)] = roe_module\n",
    "\n",
    "roe_df=roe_df.set_index('Ticker')\n",
    "roe_df"
   ]
  },
  {
   "cell_type": "code",
   "execution_count": 65,
   "metadata": {},
   "outputs": [
    {
     "data": {},
     "metadata": {},
     "output_type": "display_data"
    },
    {
     "data": {
      "application/vnd.holoviews_exec.v0+json": "",
      "text/html": [
       "<div id='1203'>\n",
       "\n",
       "\n",
       "\n",
       "\n",
       "\n",
       "  <div class=\"bk-root\" id=\"64789d6e-251c-4956-b10f-93fa63d065cc\" data-root-id=\"1203\"></div>\n",
       "</div>\n",
       "<script type=\"application/javascript\">(function(root) {\n",
       "  function embed_document(root) {\n",
       "    var docs_json = {\"3333e2c3-c8ca-47c2-a30c-e3fb88a689a9\":{\"roots\":{\"references\":[{\"attributes\":{\"line_alpha\":0.2,\"line_color\":\"#6d904f\",\"line_width\":2,\"x\":{\"field\":\"index\"},\"y\":{\"field\":\"value\"}},\"id\":\"1308\",\"type\":\"Line\"},{\"attributes\":{\"line_alpha\":0.1,\"line_color\":\"#6d904f\",\"line_width\":2,\"x\":{\"field\":\"index\"},\"y\":{\"field\":\"value\"}},\"id\":\"1307\",\"type\":\"Line\"},{\"attributes\":{\"line_color\":\"#6d904f\",\"line_width\":2,\"x\":{\"field\":\"index\"},\"y\":{\"field\":\"value\"}},\"id\":\"1306\",\"type\":\"Line\"},{\"attributes\":{\"label\":{\"value\":\"SNOW\"},\"renderers\":[{\"id\":\"1309\"}]},\"id\":\"1324\",\"type\":\"LegendItem\"},{\"attributes\":{\"bottom_units\":\"screen\",\"fill_alpha\":0.5,\"fill_color\":\"lightgrey\",\"left_units\":\"screen\",\"level\":\"overlay\",\"line_alpha\":1.0,\"line_color\":\"black\",\"line_dash\":[4,4],\"line_width\":2,\"right_units\":\"screen\",\"top_units\":\"screen\"},\"id\":\"1233\",\"type\":\"BoxAnnotation\"},{\"attributes\":{\"data_source\":{\"id\":\"1303\"},\"glyph\":{\"id\":\"1306\"},\"hover_glyph\":null,\"muted_glyph\":{\"id\":\"1308\"},\"nonselection_glyph\":{\"id\":\"1307\"},\"selection_glyph\":null,\"view\":{\"id\":\"1310\"}},\"id\":\"1309\",\"type\":\"GlyphRenderer\"},{\"attributes\":{\"label\":{\"value\":\"GOOG\"},\"renderers\":[{\"id\":\"1271\"}]},\"id\":\"1282\",\"type\":\"LegendItem\"},{\"attributes\":{\"source\":{\"id\":\"1303\"}},\"id\":\"1310\",\"type\":\"CDSView\"},{\"attributes\":{},\"id\":\"1304\",\"type\":\"Selection\"},{\"attributes\":{\"line_alpha\":0.1,\"line_color\":\"#fc4f30\",\"line_width\":2,\"x\":{\"field\":\"index\"},\"y\":{\"field\":\"value\"}},\"id\":\"1269\",\"type\":\"Line\"},{\"attributes\":{\"line_alpha\":0.2,\"line_color\":\"#8b8b8b\",\"line_width\":2,\"x\":{\"field\":\"index\"},\"y\":{\"field\":\"value\"}},\"id\":\"1330\",\"type\":\"Line\"},{\"attributes\":{\"line_color\":\"#fc4f30\",\"line_width\":2,\"x\":{\"field\":\"index\"},\"y\":{\"field\":\"value\"}},\"id\":\"1268\",\"type\":\"Line\"},{\"attributes\":{\"line_alpha\":0.2,\"line_color\":\"#fc4f30\",\"line_width\":2,\"x\":{\"field\":\"index\"},\"y\":{\"field\":\"value\"}},\"id\":\"1270\",\"type\":\"Line\"},{\"attributes\":{},\"id\":\"1321\",\"type\":\"UnionRenderers\"},{\"attributes\":{\"data_source\":{\"id\":\"1265\"},\"glyph\":{\"id\":\"1268\"},\"hover_glyph\":null,\"muted_glyph\":{\"id\":\"1270\"},\"nonselection_glyph\":{\"id\":\"1269\"},\"selection_glyph\":null,\"view\":{\"id\":\"1272\"}},\"id\":\"1271\",\"type\":\"GlyphRenderer\"},{\"attributes\":{\"source\":{\"id\":\"1265\"}},\"id\":\"1272\",\"type\":\"CDSView\"},{\"attributes\":{},\"id\":\"1266\",\"type\":\"Selection\"},{\"attributes\":{\"axis_label\":\"\",\"bounds\":\"auto\",\"formatter\":{\"id\":\"1241\"},\"major_label_orientation\":\"horizontal\",\"ticker\":{\"id\":\"1225\"}},\"id\":\"1224\",\"type\":\"LinearAxis\"},{\"attributes\":{\"data\":{\"Variable\":[\"SNOW\",\"SNOW\",\"SNOW\",\"SNOW\",\"SNOW\",\"SNOW\"],\"index\":[\"Gross Margin\",\"Operating Margin\",\"Net Margin\",\"Gross Debt/Equity\",\"Asset Turnover\",\"ROE\"],\"value\":{\"__ndarray__\":\"FK5H4XoU4j+iRbbz/dTwv05iEFg5tPC/AAAAAAAAAABQjZduEoPAP8/3U+Olm8S/\",\"dtype\":\"float64\",\"order\":\"little\",\"shape\":[6]}},\"selected\":{\"id\":\"1304\"},\"selection_policy\":{\"id\":\"1321\"}},\"id\":\"1303\",\"type\":\"ColumnDataSource\"},{\"attributes\":{\"line_alpha\":0.1,\"line_color\":\"#e5ae38\",\"line_width\":2,\"x\":{\"field\":\"index\"},\"y\":{\"field\":\"value\"}},\"id\":\"1287\",\"type\":\"Line\"},{\"attributes\":{\"axis\":{\"id\":\"1224\"},\"dimension\":1,\"grid_line_color\":null,\"ticker\":null},\"id\":\"1227\",\"type\":\"Grid\"},{\"attributes\":{\"text\":\"ROE Comparison\",\"text_color\":{\"value\":\"black\"},\"text_font_size\":{\"value\":\"12pt\"}},\"id\":\"1213\",\"type\":\"Title\"},{\"attributes\":{\"axis_label\":\"\",\"bounds\":\"auto\",\"formatter\":{\"id\":\"1243\"},\"major_label_orientation\":1.5707963267948966,\"ticker\":{\"id\":\"1222\"}},\"id\":\"1221\",\"type\":\"CategoricalAxis\"},{\"attributes\":{},\"id\":\"1279\",\"type\":\"UnionRenderers\"},{\"attributes\":{},\"id\":\"1217\",\"type\":\"CategoricalScale\"},{\"attributes\":{\"axis\":{\"id\":\"1221\"},\"grid_line_color\":null,\"ticker\":null},\"id\":\"1223\",\"type\":\"Grid\"},{\"attributes\":{},\"id\":\"1225\",\"type\":\"BasicTicker\"},{\"attributes\":{\"line_alpha\":0.1,\"line_color\":\"#8b8b8b\",\"line_width\":2,\"x\":{\"field\":\"index\"},\"y\":{\"field\":\"value\"}},\"id\":\"1329\",\"type\":\"Line\"},{\"attributes\":{},\"id\":\"1222\",\"type\":\"CategoricalTicker\"},{\"attributes\":{\"data_source\":{\"id\":\"1325\"},\"glyph\":{\"id\":\"1328\"},\"hover_glyph\":null,\"muted_glyph\":{\"id\":\"1330\"},\"nonselection_glyph\":{\"id\":\"1329\"},\"selection_glyph\":null,\"view\":{\"id\":\"1332\"}},\"id\":\"1331\",\"type\":\"GlyphRenderer\"},{\"attributes\":{},\"id\":\"1219\",\"type\":\"LinearScale\"},{\"attributes\":{\"data\":{\"Variable\":[\"AAPL\",\"AAPL\",\"AAPL\",\"AAPL\",\"AAPL\",\"AAPL\"],\"index\":[\"Gross Margin\",\"Operating Margin\",\"Net Margin\",\"Gross Debt/Equity\",\"Asset Turnover\",\"ROE\"],\"value\":{\"__ndarray__\":\"MzMzMzMz2z/ZzvdT46XTP0w3iUFg5dA/H4XrUbge+T81XrpJDALxP0Jg5dAi2/U/\",\"dtype\":\"float64\",\"order\":\"little\",\"shape\":[6]}},\"selected\":{\"id\":\"1249\"},\"selection_policy\":{\"id\":\"1260\"}},\"id\":\"1248\",\"type\":\"ColumnDataSource\"},{\"attributes\":{\"label\":{\"value\":\"NVDA\"},\"renderers\":[{\"id\":\"1331\"}]},\"id\":\"1348\",\"type\":\"LegendItem\"},{\"attributes\":{\"line_color\":\"#8b8b8b\",\"line_width\":2,\"x\":{\"field\":\"index\"},\"y\":{\"field\":\"value\"}},\"id\":\"1328\",\"type\":\"Line\"},{\"attributes\":{\"format\":\"%.1f\"},\"id\":\"1241\",\"type\":\"PrintfTickFormatter\"},{\"attributes\":{\"source\":{\"id\":\"1325\"}},\"id\":\"1332\",\"type\":\"CDSView\"},{\"attributes\":{},\"id\":\"1249\",\"type\":\"Selection\"},{\"attributes\":{},\"id\":\"1326\",\"type\":\"Selection\"},{\"attributes\":{\"line_alpha\":0.2,\"line_color\":\"#30a2da\",\"line_width\":2,\"x\":{\"field\":\"index\"},\"y\":{\"field\":\"value\"}},\"id\":\"1253\",\"type\":\"Line\"},{\"attributes\":{},\"id\":\"1345\",\"type\":\"UnionRenderers\"},{\"attributes\":{\"data\":{\"Variable\":[\"GOOG\",\"GOOG\",\"GOOG\",\"GOOG\",\"GOOG\",\"GOOG\"],\"index\":[\"Gross Margin\",\"Operating Margin\",\"Net Margin\",\"Gross Debt/Equity\",\"Asset Turnover\",\"ROE\"],\"value\":{\"__ndarray__\":\"PzVeukkM4j81XrpJDALTPyPb+X5qvNQ/uB6F61G4rj9vEoPAyqHlPyuHFtnO99M/\",\"dtype\":\"float64\",\"order\":\"little\",\"shape\":[6]}},\"selected\":{\"id\":\"1266\"},\"selection_policy\":{\"id\":\"1279\"}},\"id\":\"1265\",\"type\":\"ColumnDataSource\"},{\"attributes\":{},\"id\":\"1243\",\"type\":\"CategoricalTickFormatter\"},{\"attributes\":{\"margin\":[5,5,5,5],\"name\":\"HSpacer02237\",\"sizing_mode\":\"stretch_width\"},\"id\":\"1204\",\"type\":\"Spacer\"},{\"attributes\":{\"end\":1.8322,\"reset_end\":1.8322,\"reset_start\":-1.3142,\"start\":-1.3142,\"tags\":[[[\"value\",\"value\",null]]]},\"id\":\"1206\",\"type\":\"Range1d\"},{\"attributes\":{\"data\":{\"Variable\":[\"FB\",\"FB\",\"FB\",\"FB\",\"FB\",\"FB\"],\"index\":[\"Gross Margin\",\"Operating Margin\",\"Net Margin\",\"Gross Debt/Equity\",\"Asset Turnover\",\"ROE\"],\"value\":{\"__ndarray__\":\"7nw/NV666T/Xo3A9CtfbPwisHFpkO9c/001iEFg5tD97FK5H4XrkP5MYBFYOLdI/\",\"dtype\":\"float64\",\"order\":\"little\",\"shape\":[6]}},\"selected\":{\"id\":\"1284\"},\"selection_policy\":{\"id\":\"1299\"}},\"id\":\"1283\",\"type\":\"ColumnDataSource\"},{\"attributes\":{\"line_alpha\":0.2,\"line_color\":\"#e5ae38\",\"line_width\":2,\"x\":{\"field\":\"index\"},\"y\":{\"field\":\"value\"}},\"id\":\"1288\",\"type\":\"Line\"},{\"attributes\":{\"callback\":null,\"renderers\":[{\"id\":\"1254\"},{\"id\":\"1271\"},{\"id\":\"1289\"},{\"id\":\"1309\"},{\"id\":\"1331\"}],\"tags\":[\"hv_created\"],\"tooltips\":[[\"Variable\",\"@{Variable}\"],[\"index\",\"@{index}\"],[\"value\",\"@{value}\"]]},\"id\":\"1207\",\"type\":\"HoverTool\"},{\"attributes\":{},\"id\":\"1229\",\"type\":\"PanTool\"},{\"attributes\":{\"below\":[{\"id\":\"1221\"}],\"center\":[{\"id\":\"1223\"},{\"id\":\"1227\"}],\"left\":[{\"id\":\"1224\"}],\"margin\":[5,5,5,5],\"min_border_bottom\":10,\"min_border_left\":10,\"min_border_right\":10,\"min_border_top\":10,\"plot_height\":300,\"plot_width\":700,\"renderers\":[{\"id\":\"1254\"},{\"id\":\"1271\"},{\"id\":\"1289\"},{\"id\":\"1309\"},{\"id\":\"1331\"}],\"right\":[{\"id\":\"1263\"}],\"sizing_mode\":\"fixed\",\"title\":{\"id\":\"1213\"},\"toolbar\":{\"id\":\"1234\"},\"x_range\":{\"id\":\"1205\"},\"x_scale\":{\"id\":\"1217\"},\"y_range\":{\"id\":\"1206\"},\"y_scale\":{\"id\":\"1219\"}},\"id\":\"1212\",\"subtype\":\"Figure\",\"type\":\"Plot\"},{\"attributes\":{\"line_color\":\"#e5ae38\",\"line_width\":2,\"x\":{\"field\":\"index\"},\"y\":{\"field\":\"value\"}},\"id\":\"1286\",\"type\":\"Line\"},{\"attributes\":{\"label\":{\"value\":\"FB\"},\"renderers\":[{\"id\":\"1289\"}]},\"id\":\"1302\",\"type\":\"LegendItem\"},{\"attributes\":{\"data_source\":{\"id\":\"1283\"},\"glyph\":{\"id\":\"1286\"},\"hover_glyph\":null,\"muted_glyph\":{\"id\":\"1288\"},\"nonselection_glyph\":{\"id\":\"1287\"},\"selection_glyph\":null,\"view\":{\"id\":\"1290\"}},\"id\":\"1289\",\"type\":\"GlyphRenderer\"},{\"attributes\":{\"line_color\":\"#30a2da\",\"line_width\":2,\"x\":{\"field\":\"index\"},\"y\":{\"field\":\"value\"}},\"id\":\"1251\",\"type\":\"Line\"},{\"attributes\":{},\"id\":\"1230\",\"type\":\"WheelZoomTool\"},{\"attributes\":{\"data_source\":{\"id\":\"1248\"},\"glyph\":{\"id\":\"1251\"},\"hover_glyph\":null,\"muted_glyph\":{\"id\":\"1253\"},\"nonselection_glyph\":{\"id\":\"1252\"},\"selection_glyph\":null,\"view\":{\"id\":\"1255\"}},\"id\":\"1254\",\"type\":\"GlyphRenderer\"},{\"attributes\":{\"source\":{\"id\":\"1283\"}},\"id\":\"1290\",\"type\":\"CDSView\"},{\"attributes\":{},\"id\":\"1228\",\"type\":\"SaveTool\"},{\"attributes\":{\"children\":[{\"id\":\"1204\"},{\"id\":\"1212\"},{\"id\":\"1484\"}],\"margin\":[0,0,0,0],\"name\":\"Row02233\",\"tags\":[\"embedded\"]},\"id\":\"1203\",\"type\":\"Row\"},{\"attributes\":{\"line_alpha\":0.1,\"line_color\":\"#30a2da\",\"line_width\":2,\"x\":{\"field\":\"index\"},\"y\":{\"field\":\"value\"}},\"id\":\"1252\",\"type\":\"Line\"},{\"attributes\":{},\"id\":\"1284\",\"type\":\"Selection\"},{\"attributes\":{\"data\":{\"Variable\":[\"NVDA\",\"NVDA\",\"NVDA\",\"NVDA\",\"NVDA\",\"NVDA\"],\"index\":[\"Gross Margin\",\"Operating Margin\",\"Net Margin\",\"Gross Debt/Equity\",\"Asset Turnover\",\"ROE\"],\"value\":{\"__ndarray__\":\"/tR46SYx5D/dJAaBlUPTPzm0yHa+n9I/ZDvfT42X1j89CtejcD3mPxSuR+F6FNY/\",\"dtype\":\"float64\",\"order\":\"little\",\"shape\":[6]}},\"selected\":{\"id\":\"1326\"},\"selection_policy\":{\"id\":\"1345\"}},\"id\":\"1325\",\"type\":\"ColumnDataSource\"},{\"attributes\":{\"source\":{\"id\":\"1248\"}},\"id\":\"1255\",\"type\":\"CDSView\"},{\"attributes\":{},\"id\":\"1299\",\"type\":\"UnionRenderers\"},{\"attributes\":{},\"id\":\"1232\",\"type\":\"ResetTool\"},{\"attributes\":{},\"id\":\"1260\",\"type\":\"UnionRenderers\"},{\"attributes\":{\"active_drag\":\"auto\",\"active_inspect\":\"auto\",\"active_multi\":null,\"active_scroll\":\"auto\",\"active_tap\":\"auto\",\"tools\":[{\"id\":\"1207\"},{\"id\":\"1228\"},{\"id\":\"1229\"},{\"id\":\"1230\"},{\"id\":\"1231\"},{\"id\":\"1232\"}]},\"id\":\"1234\",\"type\":\"Toolbar\"},{\"attributes\":{\"margin\":[5,5,5,5],\"name\":\"HSpacer02238\",\"sizing_mode\":\"stretch_width\"},\"id\":\"1484\",\"type\":\"Spacer\"},{\"attributes\":{\"click_policy\":\"mute\",\"items\":[{\"id\":\"1264\"},{\"id\":\"1282\"},{\"id\":\"1302\"},{\"id\":\"1324\"},{\"id\":\"1348\"}],\"location\":[0,0],\"title\":\"Variable\"},\"id\":\"1263\",\"type\":\"Legend\"},{\"attributes\":{\"factors\":[\"Gross Margin\",\"Operating Margin\",\"Net Margin\",\"Gross Debt/Equity\",\"Asset Turnover\",\"ROE\"],\"tags\":[[[\"index\",\"index\",null]]]},\"id\":\"1205\",\"type\":\"FactorRange\"},{\"attributes\":{\"overlay\":{\"id\":\"1233\"}},\"id\":\"1231\",\"type\":\"BoxZoomTool\"},{\"attributes\":{\"label\":{\"value\":\"AAPL\"},\"renderers\":[{\"id\":\"1254\"}]},\"id\":\"1264\",\"type\":\"LegendItem\"}],\"root_ids\":[\"1203\"]},\"title\":\"Bokeh Application\",\"version\":\"2.2.3\"}};\n",
       "    var render_items = [{\"docid\":\"3333e2c3-c8ca-47c2-a30c-e3fb88a689a9\",\"root_ids\":[\"1203\"],\"roots\":{\"1203\":\"64789d6e-251c-4956-b10f-93fa63d065cc\"}}];\n",
       "    root.Bokeh.embed.embed_items_notebook(docs_json, render_items);\n",
       "  }\n",
       "  if (root.Bokeh !== undefined && root.Bokeh.Panel !== undefined) {\n",
       "    embed_document(root);\n",
       "  } else {\n",
       "    var attempts = 0;\n",
       "    var timer = setInterval(function(root) {\n",
       "      if (root.Bokeh !== undefined && root.Bokeh.Panel !== undefined) {\n",
       "        clearInterval(timer);\n",
       "        embed_document(root);\n",
       "      } else if (document.readyState == \"complete\") {\n",
       "        attempts++;\n",
       "        if (attempts > 100) {\n",
       "          clearInterval(timer);\n",
       "          console.log(\"Bokeh: ERROR: Unable to run BokehJS code because BokehJS library is missing\");\n",
       "        }\n",
       "      }\n",
       "    }, 10, root)\n",
       "  }\n",
       "})(window);</script>"
      ],
      "text/plain": [
       ":NdOverlay   [Variable]\n",
       "   :Curve   [index]   (value)"
      ]
     },
     "execution_count": 65,
     "metadata": {
      "application/vnd.holoviews_exec.v0+json": {
       "id": "1203"
      }
     },
     "output_type": "execute_result"
    }
   ],
   "source": [
    "# Create a line plot for the Return on Investment (ROE) DataFrame for the all the companies in the dataset \n",
    "roe_df.T.hvplot.line(\n",
    "    title=\"ROE Comparison\",\n",
    "    rot=90).opts(yformatter='%.1f')"
   ]
  },
  {
   "cell_type": "code",
   "execution_count": 64,
   "metadata": {},
   "outputs": [
    {
     "data": {},
     "metadata": {},
     "output_type": "display_data"
    },
    {
     "data": {
      "application/vnd.holoviews_exec.v0+json": "",
      "text/html": [
       "<div id='1102'>\n",
       "\n",
       "\n",
       "\n",
       "\n",
       "\n",
       "  <div class=\"bk-root\" id=\"09c2a452-3f34-4925-aa99-34fb6325702f\" data-root-id=\"1102\"></div>\n",
       "</div>\n",
       "<script type=\"application/javascript\">(function(root) {\n",
       "  function embed_document(root) {\n",
       "    var docs_json = {\"f6191ed6-5586-408a-be85-b516c1e1e8fb\":{\"roots\":{\"references\":[{\"attributes\":{},\"id\":\"1112\",\"type\":\"CategoricalScale\"},{\"attributes\":{},\"id\":\"1156\",\"type\":\"UnionRenderers\"},{\"attributes\":{\"factors\":[\"AAPL\",\"GOOG\",\"FB\",\"SNOW\",\"NVDA\"],\"palette\":[\"#30a2da\",\"#fc4f30\",\"#e5ae38\",\"#6d904f\",\"#8b8b8b\"]},\"id\":\"1136\",\"type\":\"CategoricalColorMapper\"},{\"attributes\":{\"callback\":null,\"renderers\":[{\"id\":\"1143\"}],\"tags\":[\"hv_created\"],\"tooltips\":[[\"index\",\"@{index}\"],[\"Variable\",\"@{Variable}\"],[\"value\",\"@{value}\"]]},\"id\":\"1106\",\"type\":\"HoverTool\"},{\"attributes\":{\"axis\":{\"id\":\"1116\"},\"grid_line_color\":null,\"ticker\":null},\"id\":\"1118\",\"type\":\"Grid\"},{\"attributes\":{},\"id\":\"1117\",\"type\":\"CategoricalTicker\"},{\"attributes\":{\"text\":\"ROE Comparison\",\"text_color\":{\"value\":\"black\"},\"text_font_size\":{\"value\":\"12pt\"}},\"id\":\"1108\",\"type\":\"Title\"},{\"attributes\":{\"axis_label\":\"\",\"bounds\":\"auto\",\"formatter\":{\"id\":\"1147\"},\"major_label_orientation\":1.5707963267948966,\"ticker\":{\"id\":\"1117\"}},\"id\":\"1116\",\"type\":\"CategoricalAxis\"},{\"attributes\":{\"margin\":[5,5,5,5],\"name\":\"HSpacer01842\",\"sizing_mode\":\"stretch_width\"},\"id\":\"1103\",\"type\":\"Spacer\"},{\"attributes\":{\"axis\":{\"id\":\"1119\"},\"dimension\":1,\"grid_line_color\":null,\"ticker\":null},\"id\":\"1122\",\"type\":\"Grid\"},{\"attributes\":{},\"id\":\"1124\",\"type\":\"PanTool\"},{\"attributes\":{},\"id\":\"1114\",\"type\":\"LinearScale\"},{\"attributes\":{\"children\":[{\"id\":\"1103\"},{\"id\":\"1107\"},{\"id\":\"1166\"}],\"margin\":[0,0,0,0],\"name\":\"Row01838\",\"tags\":[\"embedded\"]},\"id\":\"1102\",\"type\":\"Row\"},{\"attributes\":{\"axis_label\":\"\",\"bounds\":\"auto\",\"formatter\":{\"id\":\"1145\"},\"major_label_orientation\":\"horizontal\",\"ticker\":{\"id\":\"1120\"}},\"id\":\"1119\",\"type\":\"LinearAxis\"},{\"attributes\":{},\"id\":\"1120\",\"type\":\"BasicTicker\"},{\"attributes\":{},\"id\":\"1125\",\"type\":\"WheelZoomTool\"},{\"attributes\":{\"active_drag\":\"auto\",\"active_inspect\":\"auto\",\"active_multi\":null,\"active_scroll\":\"auto\",\"active_tap\":\"auto\",\"tools\":[{\"id\":\"1106\"},{\"id\":\"1123\"},{\"id\":\"1124\"},{\"id\":\"1125\"},{\"id\":\"1126\"},{\"id\":\"1127\"}]},\"id\":\"1129\",\"type\":\"Toolbar\"},{\"attributes\":{},\"id\":\"1123\",\"type\":\"SaveTool\"},{\"attributes\":{\"overlay\":{\"id\":\"1128\"}},\"id\":\"1126\",\"type\":\"BoxZoomTool\"},{\"attributes\":{},\"id\":\"1127\",\"type\":\"ResetTool\"},{\"attributes\":{},\"id\":\"1147\",\"type\":\"CategoricalTickFormatter\"},{\"attributes\":{\"fill_color\":{\"field\":\"Variable\",\"transform\":{\"id\":\"1136\"}},\"top\":{\"field\":\"value\"},\"width\":{\"value\":0.8},\"x\":{\"field\":\"xoffsets\"}},\"id\":\"1140\",\"type\":\"VBar\"},{\"attributes\":{\"fill_alpha\":{\"value\":0.1},\"fill_color\":{\"field\":\"Variable\",\"transform\":{\"id\":\"1136\"}},\"line_alpha\":{\"value\":0.1},\"top\":{\"field\":\"value\"},\"width\":{\"value\":0.8},\"x\":{\"field\":\"xoffsets\"}},\"id\":\"1141\",\"type\":\"VBar\"},{\"attributes\":{},\"id\":\"1138\",\"type\":\"Selection\"},{\"attributes\":{\"data_source\":{\"id\":\"1137\"},\"glyph\":{\"id\":\"1140\"},\"hover_glyph\":null,\"muted_glyph\":{\"id\":\"1142\"},\"nonselection_glyph\":{\"id\":\"1141\"},\"selection_glyph\":null,\"view\":{\"id\":\"1144\"}},\"id\":\"1143\",\"type\":\"GlyphRenderer\"},{\"attributes\":{\"margin\":[5,5,5,5],\"name\":\"HSpacer01843\",\"sizing_mode\":\"stretch_width\"},\"id\":\"1166\",\"type\":\"Spacer\"},{\"attributes\":{\"fill_alpha\":{\"value\":0.2},\"fill_color\":{\"field\":\"Variable\",\"transform\":{\"id\":\"1136\"}},\"line_alpha\":{\"value\":0.2},\"top\":{\"field\":\"value\"},\"width\":{\"value\":0.8},\"x\":{\"field\":\"xoffsets\"}},\"id\":\"1142\",\"type\":\"VBar\"},{\"attributes\":{\"end\":1.8322,\"reset_end\":1.8322,\"reset_start\":-1.3142,\"start\":-1.3142,\"tags\":[[[\"value\",\"value\",null]]]},\"id\":\"1105\",\"type\":\"Range1d\"},{\"attributes\":{\"factors\":[[\"Gross Margin\",\"NVDA\"],[\"Gross Margin\",\"SNOW\"],[\"Gross Margin\",\"FB\"],[\"Gross Margin\",\"GOOG\"],[\"Gross Margin\",\"AAPL\"],[\"Operating Margin\",\"NVDA\"],[\"Operating Margin\",\"SNOW\"],[\"Operating Margin\",\"FB\"],[\"Operating Margin\",\"GOOG\"],[\"Operating Margin\",\"AAPL\"],[\"Net Margin\",\"NVDA\"],[\"Net Margin\",\"SNOW\"],[\"Net Margin\",\"FB\"],[\"Net Margin\",\"GOOG\"],[\"Net Margin\",\"AAPL\"],[\"Gross Debt/Equity\",\"NVDA\"],[\"Gross Debt/Equity\",\"SNOW\"],[\"Gross Debt/Equity\",\"FB\"],[\"Gross Debt/Equity\",\"GOOG\"],[\"Gross Debt/Equity\",\"AAPL\"],[\"Asset Turnover\",\"NVDA\"],[\"Asset Turnover\",\"SNOW\"],[\"Asset Turnover\",\"FB\"],[\"Asset Turnover\",\"GOOG\"],[\"Asset Turnover\",\"AAPL\"],[\"ROE\",\"NVDA\"],[\"ROE\",\"SNOW\"],[\"ROE\",\"FB\"],[\"ROE\",\"GOOG\"],[\"ROE\",\"AAPL\"]],\"tags\":[[[\"index\",\"index\",null],[\"Variable\",\"Variable\",null]]]},\"id\":\"1104\",\"type\":\"FactorRange\"},{\"attributes\":{\"format\":\"%.1f\"},\"id\":\"1145\",\"type\":\"PrintfTickFormatter\"},{\"attributes\":{\"below\":[{\"id\":\"1116\"}],\"center\":[{\"id\":\"1118\"},{\"id\":\"1122\"}],\"left\":[{\"id\":\"1119\"}],\"margin\":[5,5,5,5],\"min_border_bottom\":10,\"min_border_left\":10,\"min_border_right\":10,\"min_border_top\":10,\"plot_height\":300,\"plot_width\":700,\"renderers\":[{\"id\":\"1143\"}],\"sizing_mode\":\"fixed\",\"title\":{\"id\":\"1108\"},\"toolbar\":{\"id\":\"1129\"},\"x_range\":{\"id\":\"1104\"},\"x_scale\":{\"id\":\"1112\"},\"y_range\":{\"id\":\"1105\"},\"y_scale\":{\"id\":\"1114\"}},\"id\":\"1107\",\"subtype\":\"Figure\",\"type\":\"Plot\"},{\"attributes\":{\"data\":{\"Variable\":[\"AAPL\",\"AAPL\",\"AAPL\",\"AAPL\",\"AAPL\",\"AAPL\",\"GOOG\",\"GOOG\",\"GOOG\",\"GOOG\",\"GOOG\",\"GOOG\",\"FB\",\"FB\",\"FB\",\"FB\",\"FB\",\"FB\",\"SNOW\",\"SNOW\",\"SNOW\",\"SNOW\",\"SNOW\",\"SNOW\",\"NVDA\",\"NVDA\",\"NVDA\",\"NVDA\",\"NVDA\",\"NVDA\"],\"index\":[\"Gross Margin\",\"Operating Margin\",\"Net Margin\",\"Gross Debt/Equity\",\"Asset Turnover\",\"ROE\",\"Gross Margin\",\"Operating Margin\",\"Net Margin\",\"Gross Debt/Equity\",\"Asset Turnover\",\"ROE\",\"Gross Margin\",\"Operating Margin\",\"Net Margin\",\"Gross Debt/Equity\",\"Asset Turnover\",\"ROE\",\"Gross Margin\",\"Operating Margin\",\"Net Margin\",\"Gross Debt/Equity\",\"Asset Turnover\",\"ROE\",\"Gross Margin\",\"Operating Margin\",\"Net Margin\",\"Gross Debt/Equity\",\"Asset Turnover\",\"ROE\"],\"value\":{\"__ndarray__\":\"MzMzMzMz2z/ZzvdT46XTP0w3iUFg5dA/H4XrUbge+T81XrpJDALxP0Jg5dAi2/U/PzVeukkM4j81XrpJDALTPyPb+X5qvNQ/uB6F61G4rj9vEoPAyqHlPyuHFtnO99M/7nw/NV666T/Xo3A9CtfbPwisHFpkO9c/001iEFg5tD97FK5H4XrkP5MYBFYOLdI/FK5H4XoU4j+iRbbz/dTwv05iEFg5tPC/AAAAAAAAAABQjZduEoPAP8/3U+Olm8S//tR46SYx5D/dJAaBlUPTPzm0yHa+n9I/ZDvfT42X1j89CtejcD3mPxSuR+F6FNY/\",\"dtype\":\"float64\",\"order\":\"little\",\"shape\":[30]},\"xoffsets\":[[\"Gross Margin\",\"AAPL\"],[\"Operating Margin\",\"AAPL\"],[\"Net Margin\",\"AAPL\"],[\"Gross Debt/Equity\",\"AAPL\"],[\"Asset Turnover\",\"AAPL\"],[\"ROE\",\"AAPL\"],[\"Gross Margin\",\"GOOG\"],[\"Operating Margin\",\"GOOG\"],[\"Net Margin\",\"GOOG\"],[\"Gross Debt/Equity\",\"GOOG\"],[\"Asset Turnover\",\"GOOG\"],[\"ROE\",\"GOOG\"],[\"Gross Margin\",\"FB\"],[\"Operating Margin\",\"FB\"],[\"Net Margin\",\"FB\"],[\"Gross Debt/Equity\",\"FB\"],[\"Asset Turnover\",\"FB\"],[\"ROE\",\"FB\"],[\"Gross Margin\",\"SNOW\"],[\"Operating Margin\",\"SNOW\"],[\"Net Margin\",\"SNOW\"],[\"Gross Debt/Equity\",\"SNOW\"],[\"Asset Turnover\",\"SNOW\"],[\"ROE\",\"SNOW\"],[\"Gross Margin\",\"NVDA\"],[\"Operating Margin\",\"NVDA\"],[\"Net Margin\",\"NVDA\"],[\"Gross Debt/Equity\",\"NVDA\"],[\"Asset Turnover\",\"NVDA\"],[\"ROE\",\"NVDA\"]]},\"selected\":{\"id\":\"1138\"},\"selection_policy\":{\"id\":\"1156\"}},\"id\":\"1137\",\"type\":\"ColumnDataSource\"},{\"attributes\":{\"bottom_units\":\"screen\",\"fill_alpha\":0.5,\"fill_color\":\"lightgrey\",\"left_units\":\"screen\",\"level\":\"overlay\",\"line_alpha\":1.0,\"line_color\":\"black\",\"line_dash\":[4,4],\"line_width\":2,\"right_units\":\"screen\",\"top_units\":\"screen\"},\"id\":\"1128\",\"type\":\"BoxAnnotation\"},{\"attributes\":{\"source\":{\"id\":\"1137\"}},\"id\":\"1144\",\"type\":\"CDSView\"}],\"root_ids\":[\"1102\"]},\"title\":\"Bokeh Application\",\"version\":\"2.2.3\"}};\n",
       "    var render_items = [{\"docid\":\"f6191ed6-5586-408a-be85-b516c1e1e8fb\",\"root_ids\":[\"1102\"],\"roots\":{\"1102\":\"09c2a452-3f34-4925-aa99-34fb6325702f\"}}];\n",
       "    root.Bokeh.embed.embed_items_notebook(docs_json, render_items);\n",
       "  }\n",
       "  if (root.Bokeh !== undefined && root.Bokeh.Panel !== undefined) {\n",
       "    embed_document(root);\n",
       "  } else {\n",
       "    var attempts = 0;\n",
       "    var timer = setInterval(function(root) {\n",
       "      if (root.Bokeh !== undefined && root.Bokeh.Panel !== undefined) {\n",
       "        clearInterval(timer);\n",
       "        embed_document(root);\n",
       "      } else if (document.readyState == \"complete\") {\n",
       "        attempts++;\n",
       "        if (attempts > 100) {\n",
       "          clearInterval(timer);\n",
       "          console.log(\"Bokeh: ERROR: Unable to run BokehJS code because BokehJS library is missing\");\n",
       "        }\n",
       "      }\n",
       "    }, 10, root)\n",
       "  }\n",
       "})(window);</script>"
      ],
      "text/plain": [
       ":Bars   [index,Variable]   (value)"
      ]
     },
     "execution_count": 64,
     "metadata": {
      "application/vnd.holoviews_exec.v0+json": {
       "id": "1102"
      }
     },
     "output_type": "execute_result"
    }
   ],
   "source": [
    "# Create a bar plot for the Return on Investment (ROE) DataFrame for the all the companies in the dataset \n",
    "roe_df.T.hvplot.bar(\n",
    "    title=\"ROE Comparison\",\n",
    "    rot=90).opts(yformatter='%.1f')"
   ]
  },
  {
   "cell_type": "code",
   "execution_count": null,
   "metadata": {},
   "outputs": [],
   "source": [
    "# Get Forward Cash Flow for all the companies in the dataset\n",
    "fcf_df = pd.DataFrame(columns=['Ticker','CFWC/CFFO','Capex/CFFO','Capex/D&A','Acquisiton/FCF','FCF/Revs', 'FCF/Equity'])"
   ]
  }
 ],
 "metadata": {
  "kernelspec": {
   "display_name": "Python 3",
   "language": "python",
   "name": "python3"
  },
  "language_info": {
   "codemirror_mode": {
    "name": "ipython",
    "version": 3
   },
   "file_extension": ".py",
   "mimetype": "text/x-python",
   "name": "python",
   "nbconvert_exporter": "python",
   "pygments_lexer": "ipython3",
   "version": "3.8.5"
  }
 },
 "nbformat": 4,
 "nbformat_minor": 4
}
