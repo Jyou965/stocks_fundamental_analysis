{
 "cells": [
  {
   "cell_type": "code",
   "execution_count": 7,
   "metadata": {},
   "outputs": [],
   "source": [
    "# Import the required libraries and dependencies\n",
    "import FundamentalAnalysis as fa\n",
    "import os\n",
    "import pandas as pd\n",
    "import hvplot.pandas\n",
    "from dotenv import load_dotenv\n",
    "from pathlib import Path"
   ]
  },
  {
   "cell_type": "code",
   "execution_count": 8,
   "metadata": {},
   "outputs": [],
   "source": [
    "# Get Balance Sheet and pull in Total Assets and Stockholder Equity Information for all stocks in the list\n",
    "def balance_sheet_quarterly():\n",
    "    for ticker in tickers:\n",
    "        balance_sheet_quarterly = fa.balance_sheet_statement(ticker, api_key, period=\"quarter\")\n",
    "        assets=round(balance_sheet_quarterly.loc['totalAssets',key_metrics_quarterly.columns[0]],3)\n",
    "        equity=round(balance_sheet_quarterly.loc['totalStockholdersEquity',balance_sheet_quarterly.columns[0]],3)\n",
    "    return"
   ]
  },
  {
   "cell_type": "code",
   "execution_count": null,
   "metadata": {},
   "outputs": [],
   "source": [
    "# Get Income Statement and pull in Revenue and Net Income Information for all stocks in the list\n",
    "def income_statement_quarterly():\n",
    "    for ticker in tickers:\n",
    "        income_statement_quarterly= fa.income_statement(ticker, api_key, period=\"quarter\")\n",
    "        revenue_quarterly=round(income_statement_quarterly.loc['revenue',income_statement_quarterly.columns[0]],3)\n",
    "        net_profit_quarterly=round(income_statement_quarterly.loc['netIncome',income_statement_quarterly.columns[0]],3)\n",
    "    return"
   ]
  },
  {
   "cell_type": "code",
   "execution_count": null,
   "metadata": {},
   "outputs": [],
   "source": [
    "# Get Cashflow Statement and pull in  for all stocks in the list\n",
    "def cash_flow_statement_quarterly():\n",
    "    for ticker in tickers:\n",
    "        cash_flow_statement_quarterly = fa.cash_flow_statement(ticker, api_key, period=\"quarter\")\n",
    "        \n",
    "    return  "
   ]
  },
  {
   "cell_type": "code",
   "execution_count": null,
   "metadata": {},
   "outputs": [],
   "source": [
    "# Get Key metrics and pull in debt-to-equity ratio for all stocks in the list\n",
    "def key_metrics_quarterly(): \n",
    "    for ticker in tickers:\n",
    "        key_metrics_quarterly = fa.key_metrics(ticker, api_key, period=\"quarter\")\n",
    "        gross_debt_equity = round(key_metrics_quarterly.loc['debtToEquity',key_metrics_quarterly.columns[0]],3)\n",
    "    return"
   ]
  },
  {
   "cell_type": "code",
   "execution_count": null,
   "metadata": {},
   "outputs": [],
   "source": [
    "# Get financial Ratios and pull in gross profit margin, operating profit margin and net profit margin for all stocks in the list\n",
    "def financial_ratios_quarterly():\n",
    "    for ticker in tickers:\n",
    "        financial_ratios_quarterly = fa.financial_ratios(ticker, api_key, period=\"quarter\")      \n",
    "        gross_margin=round(financial_ratios_quarterly.loc['grossProfitMargin',financial_ratios_quarterly.columns[0]],3)\n",
    "        operating_margin=round(financial_ratios_quarterly.loc['operatingProfitMargin',financial_ratios_quarterly.columns[0]],3)\n",
    "        net_margin=round(financial_ratios_quarterly.loc['netProfitMargin',financial_ratios_quarterly.columns[0]],3)\n",
    "    return"
   ]
  },
  {
   "cell_type": "code",
   "execution_count": null,
   "metadata": {},
   "outputs": [],
   "source": [
    "# Get growth and pull in*** for all stocks in the list\n",
    "def financial_ratios_quarterly():\n",
    "    for ticker in tickers:\n",
    "        growth_quarterly = fa.financial_statement_growth(ticker, api_key, period=\"quarter\")        \n",
    "    return"
   ]
  },
  {
   "cell_type": "code",
   "execution_count": null,
   "metadata": {},
   "outputs": [],
   "source": [
    "# Calculations\n",
    "        asset_turnover=round(revenue_quarterly*4/assets,3)      \n",
    "        roe=round(net_profit_quarterly*4/equity,3)"
   ]
  },
  {
   "cell_type": "code",
   "execution_count": null,
   "metadata": {},
   "outputs": [],
   "source": [
    "# Bulding \n",
    "        roe_module = [ticker,gross_margin,operating_margin,net_margin,gross_debt_equity,asset_turnover,roe]\n",
    "        roe_df.loc[len(roe_df.index)] = roe_module"
   ]
  }
 ],
 "metadata": {
  "kernelspec": {
   "display_name": "Python 3",
   "language": "python",
   "name": "python3"
  },
  "language_info": {
   "codemirror_mode": {
    "name": "ipython",
    "version": 3
   },
   "file_extension": ".py",
   "mimetype": "text/x-python",
   "name": "python",
   "nbconvert_exporter": "python",
   "pygments_lexer": "ipython3",
   "version": "3.8.5"
  }
 },
 "nbformat": 4,
 "nbformat_minor": 4
}
