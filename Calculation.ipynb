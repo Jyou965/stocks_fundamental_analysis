{
 "cells": [
  {
   "cell_type": "code",
   "execution_count": 19,
   "metadata": {},
   "outputs": [],
   "source": [
    "import FundamentalAnalysis as fa\n",
    "import pandas as pd \n",
    "import os\n",
    "from dotenv import load_dotenv\n",
    "from pathlib import Path\n",
    "import hvplot.pandas\n"
   ]
  },
  {
   "cell_type": "code",
   "execution_count": 20,
   "metadata": {},
   "outputs": [],
   "source": [
    "#load_dotenv()"
   ]
  },
  {
   "cell_type": "code",
   "execution_count": 21,
   "metadata": {},
   "outputs": [],
   "source": [
    "# Set the variables for the Alpaca API and secret keys\n",
    "#api_key = os.getenv(\"FMP_API\")\n",
    "#type(api_key)"
   ]
  },
  {
   "cell_type": "code",
   "execution_count": 22,
   "metadata": {},
   "outputs": [],
   "source": [
    "api_key=\"f0472de5b88762855d9c33eab7a4cfd0\""
   ]
  },
  {
   "cell_type": "code",
   "execution_count": 23,
   "metadata": {},
   "outputs": [],
   "source": [
    "tickers = ['AMZN', 'ZM', 'TSLA']"
   ]
  },
  {
   "cell_type": "code",
   "execution_count": 28,
   "metadata": {},
   "outputs": [
    {
     "data": {
      "text/html": [
       "<div>\n",
       "<style scoped>\n",
       "    .dataframe tbody tr th:only-of-type {\n",
       "        vertical-align: middle;\n",
       "    }\n",
       "\n",
       "    .dataframe tbody tr th {\n",
       "        vertical-align: top;\n",
       "    }\n",
       "\n",
       "    .dataframe thead th {\n",
       "        text-align: right;\n",
       "    }\n",
       "</style>\n",
       "<table border=\"1\" class=\"dataframe\">\n",
       "  <thead>\n",
       "    <tr style=\"text-align: right;\">\n",
       "      <th></th>\n",
       "      <th>Gross Margin</th>\n",
       "      <th>Operating Margin</th>\n",
       "      <th>Net Margin</th>\n",
       "      <th>Gross Debt/Equity</th>\n",
       "      <th>Asset Turnover</th>\n",
       "      <th>ROE</th>\n",
       "    </tr>\n",
       "    <tr>\n",
       "      <th>Ticker</th>\n",
       "      <th></th>\n",
       "      <th></th>\n",
       "      <th></th>\n",
       "      <th></th>\n",
       "      <th></th>\n",
       "      <th></th>\n",
       "    </tr>\n",
       "  </thead>\n",
       "  <tbody>\n",
       "    <tr>\n",
       "      <th>AMZN</th>\n",
       "      <td>0.273</td>\n",
       "      <td>0.082</td>\n",
       "      <td>0.075</td>\n",
       "      <td>0.308</td>\n",
       "      <td>1.344</td>\n",
       "      <td>0.314</td>\n",
       "    </tr>\n",
       "    <tr>\n",
       "      <th>ZM</th>\n",
       "      <td>0.697</td>\n",
       "      <td>0.290</td>\n",
       "      <td>0.295</td>\n",
       "      <td>0.000</td>\n",
       "      <td>0.666</td>\n",
       "      <td>0.270</td>\n",
       "    </tr>\n",
       "    <tr>\n",
       "      <th>TSLA</th>\n",
       "      <td>0.213</td>\n",
       "      <td>0.047</td>\n",
       "      <td>0.042</td>\n",
       "      <td>0.348</td>\n",
       "      <td>0.784</td>\n",
       "      <td>0.076</td>\n",
       "    </tr>\n",
       "  </tbody>\n",
       "</table>\n",
       "</div>"
      ],
      "text/plain": [
       "        Gross Margin  Operating Margin  Net Margin  Gross Debt/Equity  \\\n",
       "Ticker                                                                  \n",
       "AMZN           0.273             0.082       0.075              0.308   \n",
       "ZM             0.697             0.290       0.295              0.000   \n",
       "TSLA           0.213             0.047       0.042              0.348   \n",
       "\n",
       "        Asset Turnover    ROE  \n",
       "Ticker                         \n",
       "AMZN             1.344  0.314  \n",
       "ZM               0.666  0.270  \n",
       "TSLA             0.784  0.076  "
      ]
     },
     "execution_count": 28,
     "metadata": {},
     "output_type": "execute_result"
    }
   ],
   "source": [
    "roe_df = pd.DataFrame(columns=['Ticker','Gross Margin','Operating Margin','Net Margin','Gross Debt/Equity','Asset Turnover', 'ROE'])\n",
    "\n",
    "for ticker in tickers:\n",
    "    balance_sheet_quarterly = fa.balance_sheet_statement(ticker, api_key, period=\"quarter\")\n",
    "    income_statement_quarterly= fa.income_statement(ticker, api_key, period=\"quarter\")\n",
    "    cash_flow_statement_quarterly = fa.cash_flow_statement(ticker, api_key, period=\"quarter\")\n",
    "    key_metrics_quarterly = fa.key_metrics(ticker, api_key, period=\"quarter\")\n",
    "    financial_ratios_quarterly = fa.financial_ratios(ticker, api_key, period=\"quarter\")\n",
    "    growth_quarterly = fa.financial_statement_growth(ticker, api_key, period=\"quarter\")\n",
    "    \n",
    "    gross_margin=round(financial_ratios_quarterly.loc['grossProfitMargin',financial_ratios_quarterly.columns[0]],3)\n",
    "    # ebitda_quarterly=round(income_statement_quarterly.loc['ebitda',income_statement_quarterly.columns[0]],3)\n",
    "    # ebitda_margin = round(ebitda_quarterly/revenue_quarterly,3)\n",
    "    operating_margin=round(financial_ratios_quarterly.loc['operatingProfitMargin',financial_ratios_quarterly.columns[0]],3)\n",
    "    net_margin=round(financial_ratios_quarterly.loc['netProfitMargin',financial_ratios_quarterly.columns[0]],3)\n",
    "    gross_debt_equity = round(key_metrics_quarterly.loc['debtToEquity',key_metrics_quarterly.columns[0]],3)\n",
    "    revenue_quarterly=round(income_statement_quarterly.loc['revenue',income_statement_quarterly.columns[0]],3)\n",
    "    assets=round(balance_sheet_quarterly.loc['totalAssets',key_metrics_quarterly.columns[0]],3)\n",
    "    asset_turnover=round(revenue_quarterly*4/assets,3)\n",
    "    equity=round(balance_sheet_quarterly.loc['totalStockholdersEquity',balance_sheet_quarterly.columns[0]],3)\n",
    "    net_profit_quarterly=round(income_statement_quarterly.loc['netIncome',income_statement_quarterly.columns[0]],3)\n",
    "    roe=round(net_profit_quarterly*4/equity,3)\n",
    "    roe_module = [ticker,gross_margin,operating_margin,net_margin,gross_debt_equity,asset_turnover,roe]\n",
    "    roe_df.loc[len(roe_df.index)] = roe_module\n",
    "\n",
    "roe_df=roe_df.set_index('Ticker')\n",
    "roe_df"
   ]
  },
  {
   "cell_type": "code",
   "execution_count": 29,
   "metadata": {},
   "outputs": [
    {
     "data": {},
     "metadata": {},
     "output_type": "display_data"
    },
    {
     "data": {
      "application/vnd.holoviews_exec.v0+json": "",
      "text/html": [
       "<div id='1102'>\n",
       "\n",
       "\n",
       "\n",
       "\n",
       "\n",
       "  <div class=\"bk-root\" id=\"291751ed-d38b-4a56-bd54-060b07ea008b\" data-root-id=\"1102\"></div>\n",
       "</div>\n",
       "<script type=\"application/javascript\">(function(root) {\n",
       "  function embed_document(root) {\n",
       "    var docs_json = {\"a2e31135-4b34-4c26-9fac-174caff1ceff\":{\"roots\":{\"references\":[{\"attributes\":{\"bottom_units\":\"screen\",\"fill_alpha\":0.5,\"fill_color\":\"lightgrey\",\"left_units\":\"screen\",\"level\":\"overlay\",\"line_alpha\":1.0,\"line_color\":\"black\",\"line_dash\":[4,4],\"line_width\":2,\"right_units\":\"screen\",\"top_units\":\"screen\"},\"id\":\"1128\",\"type\":\"BoxAnnotation\"},{\"attributes\":{\"margin\":[5,5,5,5],\"name\":\"HSpacer01813\",\"sizing_mode\":\"stretch_width\"},\"id\":\"1103\",\"type\":\"Spacer\"},{\"attributes\":{\"axis\":{\"id\":\"1116\"},\"grid_line_color\":null,\"ticker\":null},\"id\":\"1118\",\"type\":\"Grid\"},{\"attributes\":{\"overlay\":{\"id\":\"1128\"}},\"id\":\"1126\",\"type\":\"BoxZoomTool\"},{\"attributes\":{},\"id\":\"1138\",\"type\":\"Selection\"},{\"attributes\":{\"data_source\":{\"id\":\"1137\"},\"glyph\":{\"id\":\"1140\"},\"hover_glyph\":null,\"muted_glyph\":{\"id\":\"1142\"},\"nonselection_glyph\":{\"id\":\"1141\"},\"selection_glyph\":null,\"view\":{\"id\":\"1144\"}},\"id\":\"1143\",\"type\":\"GlyphRenderer\"},{\"attributes\":{\"fill_alpha\":{\"value\":0.1},\"fill_color\":{\"field\":\"Variable\",\"transform\":{\"id\":\"1136\"}},\"line_alpha\":{\"value\":0.1},\"top\":{\"field\":\"value\"},\"width\":{\"value\":0.8},\"x\":{\"field\":\"xoffsets\"}},\"id\":\"1141\",\"type\":\"VBar\"},{\"attributes\":{\"active_drag\":\"auto\",\"active_inspect\":\"auto\",\"active_multi\":null,\"active_scroll\":\"auto\",\"active_tap\":\"auto\",\"tools\":[{\"id\":\"1106\"},{\"id\":\"1123\"},{\"id\":\"1124\"},{\"id\":\"1125\"},{\"id\":\"1126\"},{\"id\":\"1127\"}]},\"id\":\"1129\",\"type\":\"Toolbar\"},{\"attributes\":{\"callback\":null,\"renderers\":[{\"id\":\"1143\"}],\"tags\":[\"hv_created\"],\"tooltips\":[[\"index\",\"@{index}\"],[\"Variable\",\"@{Variable}\"],[\"value\",\"@{value}\"]]},\"id\":\"1106\",\"type\":\"HoverTool\"},{\"attributes\":{},\"id\":\"1125\",\"type\":\"WheelZoomTool\"},{\"attributes\":{},\"id\":\"1123\",\"type\":\"SaveTool\"},{\"attributes\":{\"factors\":[[\"Gross Margin\",\"TSLA\"],[\"Gross Margin\",\"ZM\"],[\"Gross Margin\",\"AMZN\"],[\"Operating Margin\",\"TSLA\"],[\"Operating Margin\",\"ZM\"],[\"Operating Margin\",\"AMZN\"],[\"Net Margin\",\"TSLA\"],[\"Net Margin\",\"ZM\"],[\"Net Margin\",\"AMZN\"],[\"Gross Debt/Equity\",\"TSLA\"],[\"Gross Debt/Equity\",\"ZM\"],[\"Gross Debt/Equity\",\"AMZN\"],[\"Asset Turnover\",\"TSLA\"],[\"Asset Turnover\",\"ZM\"],[\"Asset Turnover\",\"AMZN\"],[\"ROE\",\"TSLA\"],[\"ROE\",\"ZM\"],[\"ROE\",\"AMZN\"]],\"tags\":[[[\"index\",\"index\",null],[\"Variable\",\"Variable\",null]]]},\"id\":\"1104\",\"type\":\"FactorRange\"},{\"attributes\":{\"axis_label\":\"\",\"bounds\":\"auto\",\"formatter\":{\"id\":\"1145\"},\"major_label_orientation\":\"horizontal\",\"ticker\":{\"id\":\"1120\"}},\"id\":\"1119\",\"type\":\"LinearAxis\"},{\"attributes\":{\"axis_label\":\"\",\"bounds\":\"auto\",\"formatter\":{\"id\":\"1147\"},\"major_label_orientation\":1.5707963267948966,\"ticker\":{\"id\":\"1117\"}},\"id\":\"1116\",\"type\":\"CategoricalAxis\"},{\"attributes\":{\"fill_alpha\":{\"value\":0.2},\"fill_color\":{\"field\":\"Variable\",\"transform\":{\"id\":\"1136\"}},\"line_alpha\":{\"value\":0.2},\"top\":{\"field\":\"value\"},\"width\":{\"value\":0.8},\"x\":{\"field\":\"xoffsets\"}},\"id\":\"1142\",\"type\":\"VBar\"},{\"attributes\":{},\"id\":\"1157\",\"type\":\"UnionRenderers\"},{\"attributes\":{\"text\":\"ROE Comparison\",\"text_color\":{\"value\":\"black\"},\"text_font_size\":{\"value\":\"12pt\"}},\"id\":\"1108\",\"type\":\"Title\"},{\"attributes\":{},\"id\":\"1127\",\"type\":\"ResetTool\"},{\"attributes\":{\"source\":{\"id\":\"1137\"}},\"id\":\"1144\",\"type\":\"CDSView\"},{\"attributes\":{\"axis\":{\"id\":\"1119\"},\"dimension\":1,\"grid_line_color\":null,\"ticker\":null},\"id\":\"1122\",\"type\":\"Grid\"},{\"attributes\":{},\"id\":\"1120\",\"type\":\"BasicTicker\"},{\"attributes\":{},\"id\":\"1147\",\"type\":\"CategoricalTickFormatter\"},{\"attributes\":{\"data\":{\"Variable\":[\"AMZN\",\"AMZN\",\"AMZN\",\"AMZN\",\"AMZN\",\"AMZN\",\"ZM\",\"ZM\",\"ZM\",\"ZM\",\"ZM\",\"ZM\",\"TSLA\",\"TSLA\",\"TSLA\",\"TSLA\",\"TSLA\",\"TSLA\"],\"index\":[\"Gross Margin\",\"Operating Margin\",\"Net Margin\",\"Gross Debt/Equity\",\"Asset Turnover\",\"ROE\",\"Gross Margin\",\"Operating Margin\",\"Net Margin\",\"Gross Debt/Equity\",\"Asset Turnover\",\"ROE\",\"Gross Margin\",\"Operating Margin\",\"Net Margin\",\"Gross Debt/Equity\",\"Asset Turnover\",\"ROE\"],\"value\":{\"__ndarray__\":\"Rrbz/dR40T/LoUW28/20PzMzMzMzM7M/g8DKoUW20z8bL90kBoH1P39qvHSTGNQ/5/up8dJN5j+PwvUoXI/SP+F6FK5H4dI/AAAAAAAAAAAdWmQ730/lP0jhehSuR9E/3SQGgZVDyz+q8dJNYhCoPxsv3SQGgaU/EoPAyqFF1j9KDAIrhxbpP9v5fmq8dLM/\",\"dtype\":\"float64\",\"order\":\"little\",\"shape\":[18]},\"xoffsets\":[[\"Gross Margin\",\"AMZN\"],[\"Operating Margin\",\"AMZN\"],[\"Net Margin\",\"AMZN\"],[\"Gross Debt/Equity\",\"AMZN\"],[\"Asset Turnover\",\"AMZN\"],[\"ROE\",\"AMZN\"],[\"Gross Margin\",\"ZM\"],[\"Operating Margin\",\"ZM\"],[\"Net Margin\",\"ZM\"],[\"Gross Debt/Equity\",\"ZM\"],[\"Asset Turnover\",\"ZM\"],[\"ROE\",\"ZM\"],[\"Gross Margin\",\"TSLA\"],[\"Operating Margin\",\"TSLA\"],[\"Net Margin\",\"TSLA\"],[\"Gross Debt/Equity\",\"TSLA\"],[\"Asset Turnover\",\"TSLA\"],[\"ROE\",\"TSLA\"]]},\"selected\":{\"id\":\"1138\"},\"selection_policy\":{\"id\":\"1157\"}},\"id\":\"1137\",\"type\":\"ColumnDataSource\"},{\"attributes\":{},\"id\":\"1112\",\"type\":\"CategoricalScale\"},{\"attributes\":{},\"id\":\"1117\",\"type\":\"CategoricalTicker\"},{\"attributes\":{},\"id\":\"1114\",\"type\":\"LinearScale\"},{\"attributes\":{},\"id\":\"1124\",\"type\":\"PanTool\"},{\"attributes\":{\"margin\":[5,5,5,5],\"name\":\"HSpacer01814\",\"sizing_mode\":\"stretch_width\"},\"id\":\"1166\",\"type\":\"Spacer\"},{\"attributes\":{\"children\":[{\"id\":\"1103\"},{\"id\":\"1107\"},{\"id\":\"1166\"}],\"margin\":[0,0,0,0],\"name\":\"Row01809\",\"tags\":[\"embedded\"]},\"id\":\"1102\",\"type\":\"Row\"},{\"attributes\":{\"fill_color\":{\"field\":\"Variable\",\"transform\":{\"id\":\"1136\"}},\"top\":{\"field\":\"value\"},\"width\":{\"value\":0.8},\"x\":{\"field\":\"xoffsets\"}},\"id\":\"1140\",\"type\":\"VBar\"},{\"attributes\":{\"factors\":[\"AMZN\",\"ZM\",\"TSLA\"],\"palette\":[\"#30a2da\",\"#fc4f30\",\"#e5ae38\"]},\"id\":\"1136\",\"type\":\"CategoricalColorMapper\"},{\"attributes\":{\"below\":[{\"id\":\"1116\"}],\"center\":[{\"id\":\"1118\"},{\"id\":\"1122\"}],\"left\":[{\"id\":\"1119\"}],\"margin\":[5,5,5,5],\"min_border_bottom\":10,\"min_border_left\":10,\"min_border_right\":10,\"min_border_top\":10,\"plot_height\":300,\"plot_width\":700,\"renderers\":[{\"id\":\"1143\"}],\"sizing_mode\":\"fixed\",\"title\":{\"id\":\"1108\"},\"toolbar\":{\"id\":\"1129\"},\"x_range\":{\"id\":\"1104\"},\"x_scale\":{\"id\":\"1112\"},\"y_range\":{\"id\":\"1105\"},\"y_scale\":{\"id\":\"1114\"}},\"id\":\"1107\",\"subtype\":\"Figure\",\"type\":\"Plot\"},{\"attributes\":{\"end\":1.4784000000000002,\"reset_end\":1.4784000000000002,\"reset_start\":0.0,\"tags\":[[[\"value\",\"value\",null]]]},\"id\":\"1105\",\"type\":\"Range1d\"},{\"attributes\":{\"format\":\"%.1f\"},\"id\":\"1145\",\"type\":\"PrintfTickFormatter\"}],\"root_ids\":[\"1102\"]},\"title\":\"Bokeh Application\",\"version\":\"2.2.3\"}};\n",
       "    var render_items = [{\"docid\":\"a2e31135-4b34-4c26-9fac-174caff1ceff\",\"root_ids\":[\"1102\"],\"roots\":{\"1102\":\"291751ed-d38b-4a56-bd54-060b07ea008b\"}}];\n",
       "    root.Bokeh.embed.embed_items_notebook(docs_json, render_items);\n",
       "  }\n",
       "  if (root.Bokeh !== undefined && root.Bokeh.Panel !== undefined) {\n",
       "    embed_document(root);\n",
       "  } else {\n",
       "    var attempts = 0;\n",
       "    var timer = setInterval(function(root) {\n",
       "      if (root.Bokeh !== undefined && root.Bokeh.Panel !== undefined) {\n",
       "        clearInterval(timer);\n",
       "        embed_document(root);\n",
       "      } else if (document.readyState == \"complete\") {\n",
       "        attempts++;\n",
       "        if (attempts > 100) {\n",
       "          clearInterval(timer);\n",
       "          console.log(\"Bokeh: ERROR: Unable to run BokehJS code because BokehJS library is missing\");\n",
       "        }\n",
       "      }\n",
       "    }, 10, root)\n",
       "  }\n",
       "})(window);</script>"
      ],
      "text/plain": [
       ":Bars   [index,Variable]   (value)"
      ]
     },
     "execution_count": 29,
     "metadata": {
      "application/vnd.holoviews_exec.v0+json": {
       "id": "1102"
      }
     },
     "output_type": "execute_result"
    }
   ],
   "source": [
    "roe_df.T.hvplot.bar(\n",
    "    title=\"ROE Comparison\",\n",
    "    rot=90).opts(yformatter='%.1f')\n"
   ]
  },
  {
   "cell_type": "code",
   "execution_count": null,
   "metadata": {},
   "outputs": [],
   "source": []
  }
 ],
 "metadata": {
  "kernelspec": {
   "display_name": "Python 3",
   "language": "python",
   "name": "python3"
  },
  "language_info": {
   "codemirror_mode": {
    "name": "ipython",
    "version": 3
   },
   "file_extension": ".py",
   "mimetype": "text/x-python",
   "name": "python",
   "nbconvert_exporter": "python",
   "pygments_lexer": "ipython3",
   "version": "3.7.9"
  }
 },
 "nbformat": 4,
 "nbformat_minor": 4
}
